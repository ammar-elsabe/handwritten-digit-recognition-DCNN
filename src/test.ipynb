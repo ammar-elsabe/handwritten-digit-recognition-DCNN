{
 "cells": [
  {
   "cell_type": "markdown",
   "metadata": {},
   "source": [
    "# Testing Notebook\n",
    "\n",
    "After training the model at [train.ipynb](https://github.com/ammar-elsabe/handwritten-digit-recognition-DCNN/blob/master/src/train.ipynb) we need to test its accuracy"
   ]
  },
  {
   "cell_type": "markdown",
   "metadata": {},
   "source": [
    "## Imports\n",
    "\n",
    "We begin by importing our dependencies, for testing, we need tensorflow and tensorflow_datasets much like we did with training, but we also need numpy and seaborn"
   ]
  },
  {
   "cell_type": "code",
   "execution_count": 1,
   "metadata": {},
   "outputs": [],
   "source": [
    "import tensorflow as tf\n",
    "import numpy as np\n",
    "import seaborn as sns\n",
    "from pprint import pprint\n",
    "import matplotlib.pyplot as plt\n",
    "import tensorflow_datasets as tfds"
   ]
  },
  {
   "cell_type": "markdown",
   "metadata": {},
   "source": [
    "## The dataset\n",
    "We use the [load](https://www.tensorflow.org/datasets/api_docs/python/tfds/load) method to load the mnist dataset, but this time, we only load the test split which contains 10000 images"
   ]
  },
  {
   "cell_type": "code",
   "execution_count": null,
   "metadata": {},
   "outputs": [],
   "source": [
    "# load the mnist dataset\n",
    "dstest, dsinfo = tfds.load(\n",
    "    'mnist',\n",
    "    split=['test'],  # only need the test set\n",
    "    data_dir='../dataset/',\n",
    "    shuffle_files=True,\n",
    "    as_supervised=True,\n",
    "    with_info=True,\n",
    ")\n",
    "\n",
    "dstest = dstest[0] # Because tfds.load returns a list\n"
   ]
  },
  {
   "cell_type": "markdown",
   "metadata": {},
   "source": [
    "## Preprocessing\n",
    "\n",
    "We follow the same preprocessing we did while training the model, which is practically nothing that is necessary. However for performance reasons, we autotune and batch the test set"
   ]
  },
  {
   "cell_type": "code",
   "execution_count": 3,
   "metadata": {},
   "outputs": [],
   "source": [
    "batch_size = 128\n",
    "\n",
    "# Evaluation pipleine\n",
    "dstest = dstest.batch(batch_size)\n",
    "dstest = dstest.cache()\n",
    "dstest = dstest.prefetch(tf.data.AUTOTUNE)"
   ]
  },
  {
   "cell_type": "markdown",
   "metadata": {},
   "source": [
    "## The model\n",
    "\n",
    "We load the model created in the train script"
   ]
  },
  {
   "cell_type": "code",
   "execution_count": 4,
   "metadata": {},
   "outputs": [],
   "source": [
    "model = tf.keras.models.load_model('./model.h5')"
   ]
  },
  {
   "cell_type": "markdown",
   "metadata": {},
   "source": [
    "Printing the class names"
   ]
  },
  {
   "cell_type": "code",
   "execution_count": 5,
   "metadata": {},
   "outputs": [
    {
     "name": "stdout",
     "output_type": "stream",
     "text": [
      "['0', '1', '2', '3', '4', '5', '6', '7', '8', '9']\n"
     ]
    }
   ],
   "source": [
    "class_names = dsinfo.features['label'].names\n",
    "print(class_names)"
   ]
  },
  {
   "cell_type": "markdown",
   "metadata": {},
   "source": [
    "Generating the model predictions"
   ]
  },
  {
   "cell_type": "code",
   "execution_count": 6,
   "metadata": {},
   "outputs": [
    {
     "name": "stderr",
     "output_type": "stream",
     "text": [
      "2022-04-24 23:30:08.887871: I tensorflow/stream_executor/cuda/cuda_dnn.cc:368] Loaded cuDNN version 8303\n"
     ]
    },
    {
     "name": "stdout",
     "output_type": "stream",
     "text": [
      "array([[1.3535260e-12, 9.2269102e-11, 1.0000000e+00, ..., 1.2002113e-10,\n",
      "        3.6733475e-08, 1.2856706e-10],\n",
      "       [9.9999809e-01, 1.9031241e-09, 3.8650558e-08, ..., 4.1776258e-07,\n",
      "        1.7634169e-07, 8.7255484e-07],\n",
      "       [1.0604630e-11, 4.1063618e-08, 1.8023245e-09, ..., 8.3668425e-07,\n",
      "        8.0477860e-11, 7.3748092e-09],\n",
      "       ...,\n",
      "       [1.1503052e-11, 2.6557379e-10, 5.7338542e-07, ..., 1.2051790e-10,\n",
      "        9.9999917e-01, 2.3892071e-07],\n",
      "       [9.9994540e-01, 1.3106036e-07, 2.7527710e-08, ..., 6.4490371e-07,\n",
      "        3.2164176e-09, 5.1208815e-05],\n",
      "       [1.8934915e-10, 3.5097508e-10, 2.8572342e-11, ..., 4.0571066e-12,\n",
      "        3.7729077e-08, 2.4009706e-08]], dtype=float32)\n"
     ]
    }
   ],
   "source": [
    "model_probabilities = model.predict(dstest)\n",
    "pprint(model_probabilities)"
   ]
  },
  {
   "cell_type": "markdown",
   "metadata": {},
   "source": [
    "`model.predict ` returns a list of lists, where each inner list contains the probabilities that image belongs to each class, to get the predicted labels we choose the class with the highest probability"
   ]
  },
  {
   "cell_type": "code",
   "execution_count": 7,
   "metadata": {},
   "outputs": [
    {
     "name": "stdout",
     "output_type": "stream",
     "text": [
      "[2, 0, 4, 8, 7, 6, 0, 6, 3, 1]\n"
     ]
    }
   ],
   "source": [
    "predictions = [np.argmax(x) for x in model_probabilities]\n",
    "pprint(predictions[:10]) # printing the last 10 results"
   ]
  },
  {
   "cell_type": "markdown",
   "metadata": {},
   "source": [
    "## Evaluation of the model\n",
    "We get the actual true labels using this one line"
   ]
  },
  {
   "cell_type": "code",
   "execution_count": 8,
   "metadata": {},
   "outputs": [],
   "source": [
    "labels = np.concatenate([y for x, y in dstest], axis=0)"
   ]
  },
  {
   "cell_type": "markdown",
   "metadata": {},
   "source": [
    "We then generate a confusion matrix and plot it"
   ]
  },
  {
   "cell_type": "code",
   "execution_count": 9,
   "metadata": {},
   "outputs": [
    {
     "data": {
      "image/png": "[encoded data removed]",
      "text/plain": [
       "<Figure size 432x288 with 2 Axes>"
      ]
     },
     "metadata": {
      "needs_background": "light"
     },
     "output_type": "display_data"
    }
   ],
   "source": [
    "confusion_matrix = tf.math.confusion_matrix(\n",
    "    labels=labels,\n",
    "    predictions=predictions,\n",
    ")\n",
    "sns.heatmap(confusion_matrix,\n",
    "            annot=True,\n",
    "            xticklabels=class_names,\n",
    "            yticklabels=class_names,\n",
    "            fmt='g')\n",
    "plt.xlabel('Predicted')\n",
    "plt.ylabel('True')\n",
    "plt.savefig('../paper/figs/confusion_matrix.svg', format='svg')\n",
    "plt.show()"
   ]
  },
  {
   "cell_type": "markdown",
   "metadata": {},
   "source": [
    "With the confusion matrix we can calculate the accurace as\n",
    "$$\n",
    "\\frac{\\sum_{i = 0}^9 k_{ii}}{\\sum_{i = 0}^9 \\sum_{j = 0}^9 k_{ij}} \\times 100\n",
    "$$\n",
    "\n",
    "Where $k_{xy}$ represent an element in the $x^{th}$ row and the $y^{th}$ column in the confusion matrix, in other words it is the sum of the elements in the diagonal of the confusion matrix, dividied by the total sum."
   ]
  },
  {
   "cell_type": "code",
   "execution_count": 10,
   "metadata": {},
   "outputs": [
    {
     "name": "stdout",
     "output_type": "stream",
     "text": [
      "Diagonal sum: 9908, Total sum: 10000\n",
      "Accuracy: 99.08\n"
     ]
    }
   ],
   "source": [
    "diagonal_sum = 0\n",
    "total_sum = 0\n",
    "\n",
    "for i in range(len(class_names)):\n",
    "    for j in range(len(class_names)):\n",
    "        if(i == j):\n",
    "            diagonal_sum += confusion_matrix[i][j]\n",
    "        total_sum += confusion_matrix[i][j]\n",
    "\n",
    "print(\"Diagonal sum: {}, Total sum: {}\".format(diagonal_sum, total_sum)) # total sum should be 10000 as the test split is 10000 images\n",
    "accuracy = 100 * diagonal_sum/total_sum\n",
    "print(\"Accuracy: {}\".format(accuracy))"
   ]
  },
  {
   "cell_type": "markdown",
   "metadata": {},
   "source": [
    "We can also calculate the per-digit accuracy for a digit $i$ as\n",
    "$$\n",
    "\\frac{k_{ii}}{\\sum_{j = 0}^9 k_{ij}} \\times 100\n",
    "$$\n",
    "(For example, for the digit $0$, it was predicted correctly $970$ times out of $976 + 0 + 0 + 0 + 0 + 0 + 5 + 2 + 1 + 2$)\n",
    "With that information, we can plot a bar chart to see how accurately our model predicts each digit with the following code"
   ]
  },
  {
   "cell_type": "code",
   "execution_count": 12,
   "metadata": {},
   "outputs": [
    {
     "name": "stderr",
     "output_type": "stream",
     "text": [
      "/tmp/ipykernel_24732/3498705007.py:15: UserWarning: This figure includes Axes that are not compatible with tight_layout, so results might be incorrect.\n",
      "  fig.tight_layout()\n"
     ]
    },
    {
     "data": {
      "image/png": "[encoded data removed]",
      "text/plain": [
       "<Figure size 1080x360 with 1 Axes>"
      ]
     },
     "metadata": {
      "needs_background": "light"
     },
     "output_type": "display_data"
    }
   ],
   "source": [
    "fig = plt.figure(figsize=(15, 5))\n",
    "ax = fig.add_axes([0, 0, 0.7, 1])\n",
    "digits = list(range(0, 10))\n",
    "digit_acc = []\n",
    "for i in digits:\n",
    "    row_sum = sum([confusion_matrix[i][j] for j in digits])\n",
    "    digit_acc.append(100 * confusion_matrix[i][i]/row_sum)\n",
    "plt.yticks(digits)\n",
    "bars = ax.barh(digits, digit_acc)\n",
    "ax.bar_label(bars)\n",
    "ax.spines[\"top\"].set_bounds(0,113)\n",
    "ax.spines[\"bottom\"].set_bounds(0,113)\n",
    "ax.spines[\"right\"].set_position((\"outward\", 60))\n",
    "plt.rcParams.update({'font.size': 22}) # Increasing the text size\n",
    "fig.tight_layout()\n",
    "plt.savefig('../paper/figs/bar_plot.svg', format='svg', bbox_inches='tight')\n",
    "plt.show()"
   ]
  }
 ],
 "metadata": {
  "interpreter": {
   "hash": "767d51c1340bd893661ea55ea3124f6de3c7a262a8b4abca0554b478b1e2ff90"
  },
  "kernelspec": {
   "display_name": "Python 3.10.4 64-bit",
   "language": "python",
   "name": "python3"
  },
  "language_info": {
   "codemirror_mode": {
    "name": "ipython",
    "version": 3
   },
   "file_extension": ".py",
   "mimetype": "text/x-python",
   "name": "python",
   "nbconvert_exporter": "python",
   "pygments_lexer": "ipython3",
   "version": "3.10.4"
  },
  "orig_nbformat": 4
 },
 "nbformat": 4,
 "nbformat_minor": 2
}
